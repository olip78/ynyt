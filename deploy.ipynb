{
 "cells": [
  {
   "cell_type": "markdown",
   "id": "a2eaf69b",
   "metadata": {},
   "source": [
    "### подключение\n",
    "\n",
    "```ssh olipandrei@158.160.109.15```\n",
    "\n",
    "```ssh olipandrei@158.160.100.200```\n"
   ]
  },
  {
   "cell_type": "code",
   "execution_count": null,
   "id": "4dd67d67",
   "metadata": {},
   "outputs": [],
   "source": [
    "ssh key on vm\n",
    "\n",
    "ssh-keygen -t rsa -C \"andrei.chekunov@gmail.com\""
   ]
  },
  {
   "cell_type": "code",
   "execution_count": 13,
   "id": "b385f706",
   "metadata": {},
   "outputs": [
    {
     "name": "stdout",
     "output_type": "stream",
     "text": [
      "README.md            \u001b[34mconfigs\u001b[m\u001b[m              prediction_stack.yml\r\n",
      "app_stack.yml        \u001b[34mdashboard\u001b[m\u001b[m            \u001b[34msttre\u001b[m\u001b[m\r\n",
      "\u001b[34martifacts\u001b[m\u001b[m            \u001b[34mdata\u001b[m\u001b[m                 \u001b[34mupdater\u001b[m\u001b[m\r\n",
      "config.json          \u001b[34mprediction\u001b[m\u001b[m           \u001b[34mynyt\u001b[m\u001b[m\r\n"
     ]
    }
   ],
   "source": [
    "!ls ../ynyt"
   ]
  },
  {
   "cell_type": "markdown",
   "id": "ba490563",
   "metadata": {},
   "source": [
    "scp -prq $(pwd)/dashboard/ olipandrei@130.193.36.189:/home/olipandrei/\n",
    "scp -prq $(pwd)/updater/ olipandrei@130.193.36.189:/home/olipandrei/\n",
    "\n",
    "scp -prq $(pwd)/prediction/ olipandrei@130.193.36.189:/home/olipandrei/\n",
    "scp -prq $(pwd)/prediction_stack.yml olipandrei@130.193.36.189:/home/olipandrei/prediction_stack.yml"
   ]
  },
  {
   "cell_type": "code",
   "execution_count": null,
   "id": "f3195939",
   "metadata": {},
   "outputs": [],
   "source": [
    "scp -prq $(pwd)/artifacts/ olipandrei@158.160.32.163:/home/olipandrei/artifacts/\n",
    "scp -prq $(pwd)/ynyt/ olipandrei@158.160.32.163:/home/olipandrei/ynyt/\n",
    "scp -prq $(pwd)/dashboard/ olipandrei@158.160.32.163:/home/olipandrei/dashboard/\n",
    "scp -prq $(pwd)/updater/ olipandrei@158.160.32.163:/home/olipandrei/updater/\n",
    "scp -prq $(pwd)/config.json olipandrei@158.160.32.163:/home/olipandrei/config.json\n",
    "scp -prq $(pwd)/data/ olipandrei@158.160.32.163:/home/olipandrei/data/\n",
    "scp -prq $(pwd)/prediction/ olipandrei@158.160.32.163:/home/olipandrei/prediction/\n"
   ]
  },
  {
   "cell_type": "code",
   "execution_count": null,
   "id": "61421fc2",
   "metadata": {},
   "outputs": [],
   "source": [
    "docker stop dashboard\n",
    "docker stop updater\n",
    "docker rm dashboard\n",
    "docker rm updater\n",
    "\n",
    "docker stop $(docker ps -q)\n",
    "docker rm $(docker ps -qa)"
   ]
  },
  {
   "cell_type": "markdown",
   "id": "2e500a7f",
   "metadata": {},
   "source": [
    "### install docker\n",
    "\n",
    "https://docs.docker.com/engine/install/ubuntu/\n",
    "\n",
    "1. Set up Docker's apt repository.\n",
    "\n",
    "...\n",
    "\n",
    "2. and than\n",
    "\n",
    "```sudo apt-get install docker-ce docker-ce-cli containerd.io docker-buildx-plugin docker-compose-plugin```\n",
    "\n",
    "```sudo docker run hello-world```\n",
    "\n",
    "```sudo apt  install docker-compose```\n",
    "\n",
    "+\n",
    "\n",
    "    sudo usermod -a -G docker $USER\n",
    "    sudo service docker restart\n",
    "    \n",
    "    relog !!"
   ]
  },
  {
   "cell_type": "markdown",
   "id": "5ac47a8e",
   "metadata": {},
   "source": [
    "# ssh permitions on vm\n",
    "\n",
    "The issue might be related to the permissions of the ~/.ssh directory or files within it. In a secure setup, the ~/.ssh directory should have restricted permissions.\n",
    "\n",
    "    chmod 700 ~/.ssh\n",
    "    chmod 600 ~/.ssh/id_rsa  # or the name of your private key\n",
    "    chmod 644 ~/.ssh/id_rsa.pub  # or the name of your public key\n",
    "\n",
    "Here's what these commands do:\n",
    "\n",
    "- chmod 700 ~/.ssh: Gives read, write, and execute permissions only to the owner.\n",
    "- chmod 600 ~/.ssh/id_rsa: Gives read and write permissions only to the owner for the private key.\n",
    "- chmod 644 ~/.ssh/id_rsa.pub: Gives read permissions to the owner for the public key."
   ]
  },
  {
   "cell_type": "markdown",
   "id": "c35d2e16",
   "metadata": {},
   "source": [
    "### mlflow\n",
    "\n",
    "\n",
    "    scp $(pwd)/mlflow/docker-compose.yml olipandrei@158.160.113.119:/home/olipandrei/mlflow/\n",
    "\n",
    "    scp $(pwd)/mlflow/config.env olipandrei@158.160.113.119:/home/olipandrei/mlflow\n",
    "\n",
    "    scp -r $(pwd)/mlflow/mlflow olipandrei@158.160.113.119:/home/olipandrei/mlflow\n",
    "\n",
    "\n",
    "sudo docker-compose --env-file config.env up --build -d\n",
    "sudo docker-compose --env-file config.env up -d\n",
    "\n",
    "158.160.109.15:5001\n",
    "158.160.109.15:9001\n",
    "\n",
    "\n",
    "    docker compose down"
   ]
  },
  {
   "cell_type": "code",
   "execution_count": 14,
   "id": "4bc6afff",
   "metadata": {
    "scrolled": false
   },
   "outputs": [],
   "source": [
    "#!cat ../mlflow/config.env"
   ]
  },
  {
   "cell_type": "markdown",
   "id": "ab5fb1ab",
   "metadata": {},
   "source": [
    "# useful !!\n",
    "\n",
    "```docker stats```\n",
    "\n",
    "\n",
    "```docker exec -it <контейнер> bash```\n",
    "\n",
    "```df -T```\n",
    "\n",
    "\n",
    "    #!/bin/sh\n",
    "    free -m | awk 'NR==2{printf \"Memory Usage: %s/%sMB (%.2f%%)\\n\", $3,$2,$3*100/$2 }'\n",
    "    df -h | awk '$NF==\"/\"{printf \"Disk Usage: %d/%dGB (%s)\\n\", $3,$2,$5}'\n",
    "    top -bn1 | grep load | awk '{printf \"CPU Load: %.2f\\n\", $(NF-2)}'\n",
    "    \n",
    "    $ ./foo.sh \n",
    "    Memory Usage: 4986/7994MB (62.37%)\n",
    "    Disk Usage: 23/68GB (35%)\n",
    "    CPU Load: 0.78"
   ]
  },
  {
   "cell_type": "code",
   "execution_count": null,
   "id": "283d1f53",
   "metadata": {},
   "outputs": [],
   "source": [
    "## check\n",
    "\n",
    "docker run --name updater -p 8080:8080 -v app_data:/usr/src/results 158.160.109.15:4000/ynyt_app:latest"
   ]
  },
  {
   "cell_type": "markdown",
   "id": "b61111f3",
   "metadata": {},
   "source": [
    "# приложения локально\n",
    "\n",
    "## Docker\n",
    "\n",
    "### predict\n",
    "    docker build -t ynyt_prediction -f ./prediction/Dockerfile .\n",
    "    docker build -t ynyt_prediction_cron -f ./prediction/Dockerfile.cron .\n",
    "    \n",
    "    \n",
    "    \n",
    "    docker run --name prediction --env-file $(pwd)/prediction/config.env -d ynyt_prediction\n",
    "    docker run --name prediction --env-file $(pwd)/prediction/config.env --rm -d ynyt_prediction\n",
    "    < --network=\"host\" >\n",
    "    \n",
    "    \n",
    "    docker stop prediction\n",
    "    docker rm prediction\n",
    "    docker run --name prediction --env-file $(pwd)/prediction/config.env -d ynyt_prediction"
   ]
  },
  {
   "cell_type": "markdown",
   "id": "5f0dedef",
   "metadata": {},
   "source": [
    "### app\n",
    "\n",
    "    docker volume create app_data\n",
    "\n",
    "    docker build -t ynyt_app -f ./dashboard/Dockerfile .\n",
    "    docker run --name dashboard -v app_data:$(pwd)results -p 8080:8080 -d ynyt_app"
   ]
  },
  {
   "cell_type": "markdown",
   "id": "ecad0ffb",
   "metadata": {},
   "source": [
    "    docker stop dashboard\n",
    "    docker rm dashboard"
   ]
  },
  {
   "cell_type": "markdown",
   "id": "b6572fc6",
   "metadata": {},
   "source": [
    "### updater\n",
    "\n",
    "    docker build -t ynyt_updater -f ./updater/Dockerfile .\n",
    "    docker run --name updater -v app_data:$(pwd)results -p 8081:8081 -d ynyt_updater\n",
    "    \n",
    "    \n",
    "    docker stop updater\n",
    "    docker rm updater\n",
    "    \n",
    "    \n",
    "  \n",
    "84.201.156.181:8081/month"
   ]
  },
  {
   "cell_type": "markdown",
   "id": "e9e38979",
   "metadata": {},
   "source": [
    "# git\n",
    "\n",
    "переключиться на ssh\n",
    "    \n",
    "    git remote set-url origin git@gitlab.com:olip78/ynyt.git"
   ]
  },
  {
   "cell_type": "markdown",
   "id": "7b2d7f17",
   "metadata": {},
   "source": [
    "# CI / CD\n",
    "\n",
    "# ssh\n",
    "in gtilab ssh-privat on vm public\n",
    "authorisation: "
   ]
  },
  {
   "cell_type": "markdown",
   "id": "d9a91faa",
   "metadata": {},
   "source": [
    "\n",
    "    olipandrei@olip-1:/$ sudo nano /etc/docker/daemon.json\n",
    "    {\n",
    "      \"insecure-registries\": [\"158.160.113.119:4000\"]\n",
    "    }\n",
    "    \n",
    "    olipandrei@olip-1:/$ sudo systemctl restart docker\n",
    "\n",
    "\n",
    "на всех нодах!!\n",
    "\n",
    "    olipandrei@olip-2:/$ sudo nano /etc/docker/daemon.json\n",
    "    ..."
   ]
  },
  {
   "cell_type": "code",
   "execution_count": 12,
   "id": "f432901e",
   "metadata": {},
   "outputs": [
    {
     "name": "stdout",
     "output_type": "stream",
     "text": [
      "Dockerfile          config_backup.json  \u001b[34mmodels\u001b[m\u001b[m              \u001b[34mupdater\u001b[m\u001b[m\r\n",
      "\u001b[34mapp\u001b[m\u001b[m                 \u001b[34mconfigs\u001b[m\u001b[m             \u001b[34mnotebooks\u001b[m\u001b[m           \u001b[34mynyt\u001b[m\u001b[m\r\n",
      "\u001b[34marchive\u001b[m\u001b[m             \u001b[34mdata\u001b[m\u001b[m                \u001b[34mprediction\u001b[m\u001b[m\r\n",
      "\u001b[34martifacts\u001b[m\u001b[m           deploy.ipynb        \u001b[34msttre\u001b[m\u001b[m\r\n",
      "config.json         docker-compose.yaml \u001b[34mtransformers\u001b[m\u001b[m\r\n"
     ]
    }
   ],
   "source": [
    "!ls app"
   ]
  },
  {
   "cell_type": "code",
   "execution_count": null,
   "id": "0a6f1239",
   "metadata": {},
   "outputs": [],
   "source": [
    "git add .\n",
    "(hard_ml) andreichekunov@AndreisMBP2614 ynyt % gi"
   ]
  },
  {
   "cell_type": "code",
   "execution_count": null,
   "id": "4267c3ca",
   "metadata": {},
   "outputs": [],
   "source": [
    "docker run --log-driver=journald\n",
    "\n",
    "mycontainer:\n",
    "    image: myimage\n",
    "    logging:\n",
    "        driver: journald\n",
    "        options:\n",
    "            tag: mytag\n",
    "                \n",
    "journalctl -u docker CONTAINER_NAME=mycontainer_name"
   ]
  },
  {
   "cell_type": "markdown",
   "id": "317ce3e5",
   "metadata": {},
   "source": [
    "# swarm\n",
    "bcreate a claster manualy:\n",
    "\n",
    "    docker swarm init --advertise-addr 158.160.109.15\n",
    "    \n",
    "\n",
    "\\>>\n",
    "\n",
    "To add a worker to this swarm, run the following command:\n",
    "\n",
    "    docker swarm join --token SWMTKN-1-3fhrr8gzqs89pnr2xj06ehiw54r3qeasw6qkuhdmu93hmow45r-2o4pqyh002wzomfldir5p6jv1 84.201.156.181:2377\n",
    "    \n",
    "    \n",
    "docker swarm leave --force\n",
    "docker swarm leave\n",
    "    \n",
    "    \n",
    "###\n",
    "\n",
    "docker stack deploy -c ./prediction_stack.yml predictions_ynyt\n",
    "docker service update --replicas 1 predictions_ynyt\n",
    "\n",
    "\n",
    "docker stack deploy -c ./app_stack.yml app_ynyt\n",
    "docker service update --replicas 4 app_ynyt\n",
    "\n",
    "\n",
    "docker stack rm app_ynyt\n",
    "\n",
    "docker service ps app_ynyt_updater app_ynyt_dashboard"
   ]
  },
  {
   "cell_type": "code",
   "execution_count": null,
   "id": "b6eb3ef4",
   "metadata": {},
   "outputs": [],
   "source": []
  },
  {
   "cell_type": "code",
   "execution_count": null,
   "id": "46c7df35",
   "metadata": {},
   "outputs": [],
   "source": [
    "MLFLOW_S3_ENDPOINT_URL=\"http://84.201.156.181:9000\"\n",
    "MLFLOW_TRACKING_URI=\"http://84.201.156.181:5001\"\n",
    "\n",
    "AWS_ACCESS_KEY_ID='XeAMQQjZY2pTcXWfxh4d'\n",
    "AWS_SECRET_ACCESS_KEY='yJ10G38aC2ucyaFjVj2dmXs1bITYkJBcx0FtlaZ'\n",
    "MINIO_ACCESS_KEY='XeAMQQjZY2pTcXWfxh4d'\n",
    "MINIO_SECRET_ACCESS_KEY='yJ10G38aC2ucyaFjVj2dmXs1bITYkJBcx0FtlaZ'\n",
    "\n",
    "S3_BUCKET=\"preprocessed-data\"\n",
    "\n",
    "ARTIFACT_URI=\"mlflow-artifacts:/1/52aa20605add4542aa2e1ed39703dfcf/artifacts\"\n",
    "\n",
    "\n",
    "PG_DATABASE=\"mlflow\"\n",
    "PG_USER=\"mlflow\"\n",
    "PG_PASSWORD=\"mlflow\"\n",
    "\n",
    "APP_IP=\"127.0.0.1\""
   ]
  },
  {
   "cell_type": "markdown",
   "id": "a46cd801",
   "metadata": {},
   "source": [
    "# git\n",
    "\n",
    "\n",
    "ChatGPT\n",
    "It seems you have a divergence between your local branch and the remote branch. Divergence means that changes have been made in both the local and remote branches, and Git is not able to perform a fast-forward merge.\n",
    "\n",
    "#### commit or stash changes:\n",
    "    git add .\n",
    "    git commit -m \"Your commit message\"\n",
    "\n",
    "#### Fetch Changes:\n",
    "Fetch the changes from the remote repository. This won't merge them into your branch yet.\n",
    "    \n",
    "    git fetch\n",
    "\n",
    "#### Rebase or Merge:\n",
    "Choose either rebase or merge to integrate the changes. If you prefer a linear history, use rebase. If you want to preserve the commit history, use merge.\n",
    "\n",
    "    git rebase origin/main\n",
    "\n",
    "If you have conflicts, Git will guide you through resolving them.\n",
    "\n",
    "    git merge origin/main\n",
    "\n",
    "#### Push Changes:\n",
    "After resolving the divergence, push the changes to the remote repository.\n",
    "\n",
    "    git push origin main \n",
    "\n",
    "If you're not sure which changes you want to keep, you may want to review the commit history and changes in both branches before deciding whether to rebase or merge.\n",
    "\n",
    "Remember, rebase rewrites history, so it's generally recommended for local branches or branches that haven't been pushed yet. If others are working with your branch, it's usually better to merge to avoid rewriting shared history."
   ]
  },
  {
   "cell_type": "code",
   "execution_count": null,
   "id": "c7a22372",
   "metadata": {},
   "outputs": [],
   "source": []
  }
 ],
 "metadata": {
  "kernelspec": {
   "display_name": "Python 3 (ipykernel)",
   "language": "python",
   "name": "python3"
  },
  "language_info": {
   "codemirror_mode": {
    "name": "ipython",
    "version": 3
   },
   "file_extension": ".py",
   "mimetype": "text/x-python",
   "name": "python",
   "nbconvert_exporter": "python",
   "pygments_lexer": "ipython3",
   "version": "3.8.13"
  }
 },
 "nbformat": 4,
 "nbformat_minor": 5
}
